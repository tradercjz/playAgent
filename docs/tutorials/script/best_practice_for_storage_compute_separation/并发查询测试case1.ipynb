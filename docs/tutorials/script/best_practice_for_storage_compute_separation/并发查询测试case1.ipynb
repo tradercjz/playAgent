{
 "cells": [
  {
   "cell_type": "code",
   "execution_count": 178,
   "id": "a1c0bf09",
   "metadata": {},
   "outputs": [],
   "source": [
    "#1.模块导入\n",
    "import dolphindb as ddb\n",
    "import numpy as np\n",
    "import pandas as pd\n",
    "import os\n",
    "from multiprocessing import Queue, Process\n",
    "import time\n",
    "import random"
   ]
  },
  {
   "cell_type": "code",
   "execution_count": 179,
   "id": "ecec94e3",
   "metadata": {},
   "outputs": [],
   "source": [
    "#2.参数配置\n",
    "# parallel 是指定并发数（并发查询进程数）\n",
    "parallels = [1, 10, 50, 100]\n",
    "# 单个进程执行多少次循环查询\n",
    "sqlNum = 100\n",
    "# DolphinDB 测试节点信息\n",
    "ddbIP = \"192.198.1.38\"\n",
    "ddbPorts = [8073, 8074]\n",
    "ddbUserId = \"admin\"\n",
    "ddbUserPassword = \"123456\"\n",
    "dbName = \"dfs://l2TLDB\"\n",
    "tbName = \"trade\""
   ]
  },
  {
   "cell_type": "code",
   "execution_count": 180,
   "id": "f5b79895",
   "metadata": {},
   "outputs": [],
   "source": [
    "s = ddb.session(compress=True)\n",
    "ddbPort = ddbPorts[random.sample(range(0,2), 1)[0]]\n",
    "s.connect(host=ddbIP, port=ddbPort, userid=ddbUserId, password=ddbUserPassword)\n",
    "scripts = \"\"\"\n",
    "counts = select count(*) from loadTable(\"dfs://l2TLDB\", \"trade\") where date(TradeTime) = 2023.02.01 group by SecurityID\n",
    "exec SecurityID from counts order by count limit 6000\n",
    "\"\"\"\n",
    "SecurityIDs = s.run(scripts)"
   ]
  },
  {
   "cell_type": "code",
   "execution_count": 181,
   "id": "7ff0d1a5",
   "metadata": {},
   "outputs": [],
   "source": [
    "#3.定义查询函数\n",
    "# 单个进程的查询函数\n",
    "countQue = Queue()\n",
    "costQue = Queue()\n",
    "def testSQL(processName, sql):\n",
    "    s = ddb.session(compress=True)\n",
    "    ddbPort = ddbPorts[random.sample(range(0,2), 1)[0]]\n",
    "    s.connect(host=ddbIP, port=ddbPort, userid=ddbUserId, password=ddbUserPassword)\n",
    "    #print(f\"The query of process {os.getpid()} begins, the start time is：{pd.Timestamp.now()},\"+\"IP:'{ip}'\".format(ip=ddbIP) , flush=True)\n",
    "    count = 0\n",
    "    cost = 0\n",
    "    for i in range(sqlNum):\n",
    "        startTime = pd.Timestamp.now()\n",
    "        data = s.run(sql)\n",
    "        costTime = (pd.Timestamp.now() - startTime) / np.timedelta64(1, 'ms')\n",
    "        cost += costTime\n",
    "        #count += len(data)\n",
    "    #countQue.put(count)\n",
    "    costQue.put(cost)\n",
    "def main():\n",
    "    for parallel in parallels:\n",
    "        # 计划查询总次数\n",
    "        countQueMax = parallel*sqlNum\n",
    "        print(\"并发查询进程数是{0}，单个进程的循环查询次数是{1}，计划查询总次数是{2}。\".format(parallel, sqlNum, countQueMax))\n",
    "        taskList = []\n",
    "        for i in range(parallel):\n",
    "            ids = SecurityIDs[random.sample(range(0,6000), 1)[0]]\n",
    "            sql = \"select * from loadTable('{db}', '{tb}') where date(TradeTime) = 2023.02.01 and SecurityID = '{id}'\".format(db = dbName, tb = tbName, id = ids)\n",
    "            testTask = Process(target=testSQL, args=(\"Process\" + str(i), sql))\n",
    "            taskList.append(testTask)\n",
    "        startTime = pd.Timestamp.now()\n",
    "        print(\"开始执行并行查询的任务的时间是{0}\".format(startTime))\n",
    "        for p in taskList:\n",
    "            p.start()\n",
    "        for p in taskList:\n",
    "            p.join()\n",
    "        endTime = pd.Timestamp.now()\n",
    "        sumCount = []\n",
    "        while countQue.empty() == False:\n",
    "            data = countQue.get()\n",
    "            sumCount.append(data)\n",
    "        sumCount = np.sum(sumCount)\n",
    "        sumCost = []\n",
    "        while costQue.empty() == False:\n",
    "            data = costQue.get()\n",
    "            sumCost.append(data)\n",
    "        sumCost = np.sum(sumCost)\n",
    "        print(\"结束执行并行查询的任务的时间是{0}\".format(endTime))\n",
    "        print(\"并发查询任务总耗时是{0}毫秒\".format((endTime - startTime) / np.timedelta64(1, 'ms')))\n",
    "        #print(\"总查询记录数是{0}\".format(sumCount))\n",
    "        #print(\"查询平均用时是{0}\".format(sumCost / sqlNum / parallel))\n",
    "        #print(\"并发查询性能RPS是{0}\".format(sumCount/((endTime - startTime) / np.timedelta64(1, 's'))))\n",
    "        print(\"并发查询性能QPS是{0}\".format(countQueMax/((endTime - startTime) / np.timedelta64(1, 's'))))\n",
    "        print(\"每次查询的平均耗时是{0}毫秒\".format(((endTime - startTime) / np.timedelta64(1, 'ms'))/countQueMax))\n",
    "        print(\"end\")"
   ]
  },
  {
   "cell_type": "code",
   "execution_count": 182,
   "id": "33c1ed4a",
   "metadata": {
    "scrolled": false
   },
   "outputs": [
    {
     "name": "stdout",
     "output_type": "stream",
     "text": [
      "并发查询进程数是1，单个进程的循环查询次数是100，计划查询总次数是100。\n",
      "开始执行并行查询的任务的时间是2024-12-16 17:15:01.206837\n",
      "结束执行并行查询的任务的时间是2024-12-16 17:15:01.734942\n",
      "并发查询任务总耗时是528.105毫秒\n",
      "并发查询性能QPS是189.3562833148711\n",
      "每次查询的平均耗时是5.2810500000000005毫秒\n",
      "end\n",
      "并发查询进程数是10，单个进程的循环查询次数是100，计划查询总次数是1000。\n",
      "开始执行并行查询的任务的时间是2024-12-16 17:15:01.737297\n",
      "结束执行并行查询的任务的时间是2024-12-16 17:15:04.190957\n",
      "并发查询任务总耗时是2453.66毫秒\n",
      "并发查询性能QPS是407.55442889397875\n",
      "每次查询的平均耗时是2.4536599999999997毫秒\n",
      "end\n",
      "并发查询进程数是50，单个进程的循环查询次数是100，计划查询总次数是5000。\n",
      "开始执行并行查询的任务的时间是2024-12-16 17:15:04.195746\n",
      "结束执行并行查询的任务的时间是2024-12-16 17:15:07.496616\n",
      "并发查询任务总耗时是3300.87毫秒\n",
      "并发查询性能QPS是1514.7521713972376\n",
      "每次查询的平均耗时是0.6601739999999999毫秒\n",
      "end\n",
      "并发查询进程数是100，单个进程的循环查询次数是100，计划查询总次数是10000。\n",
      "开始执行并行查询的任务的时间是2024-12-16 17:15:07.501431\n",
      "结束执行并行查询的任务的时间是2024-12-16 17:15:12.291141\n",
      "并发查询任务总耗时是4789.71毫秒\n",
      "并发查询性能QPS是2087.8090740357975\n",
      "每次查询的平均耗时是0.478971毫秒\n",
      "end\n"
     ]
    }
   ],
   "source": [
    "#4.运行查询函数\n",
    "if __name__ == '__main__':\n",
    "    main()"
   ]
  },
  {
   "cell_type": "code",
   "execution_count": null,
   "id": "146a131b",
   "metadata": {},
   "outputs": [],
   "source": []
  }
 ],
 "metadata": {
  "kernelspec": {
   "display_name": "Python 3 (ipykernel)",
   "language": "python",
   "name": "python3"
  },
  "language_info": {
   "codemirror_mode": {
    "name": "ipython",
    "version": 3
   },
   "file_extension": ".py",
   "mimetype": "text/x-python",
   "name": "python",
   "nbconvert_exporter": "python",
   "pygments_lexer": "ipython3",
   "version": "3.11.5"
  }
 },
 "nbformat": 4,
 "nbformat_minor": 5
}
